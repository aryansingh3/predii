{
  "cells": [
    {
      "cell_type": "code",
      "execution_count": 21,
      "metadata": {
        "id": "QCOAY-endiVD"
      },
      "outputs": [],
      "source": [
        "! pip install -U spacy -q"
      ]
    },
    {
      "cell_type": "code",
      "execution_count": 22,
      "metadata": {
        "colab": {
          "base_uri": "https://localhost:8080/"
        },
        "id": "kqp0RmEodric",
        "outputId": "3efc0553-c92b-4a83-e110-ed495e74d753"
      },
      "outputs": [
        {
          "name": "stdout",
          "output_type": "stream",
          "text": [
            "\u001b[1m\n",
            "============================== Info about spaCy ==============================\u001b[0m\n",
            "\n",
            "spaCy version    3.7.4                         \n",
            "Location         /opt/homebrew/Caskroom/miniforge/base/lib/python3.10/site-packages/spacy\n",
            "Platform         macOS-12.3.1-arm64-arm-64bit  \n",
            "Python version   3.10.6                        \n",
            "Pipelines                                      \n",
            "\n"
          ]
        }
      ],
      "source": [
        "!python -m spacy info\n"
      ]
    },
    {
      "cell_type": "code",
      "execution_count": 23,
      "metadata": {
        "colab": {
          "base_uri": "https://localhost:8080/"
        },
        "id": "WcKUOaMNdrlA",
        "outputId": "4a62d4fb-198f-4bd9-bce4-cb7eb752d99c"
      },
      "outputs": [
        {
          "name": "stdout",
          "output_type": "stream",
          "text": [
            "Requirement already satisfied: spacy-transformers in /opt/homebrew/Caskroom/miniforge/base/lib/python3.10/site-packages (1.3.4)\n",
            "Requirement already satisfied: spacy<4.0.0,>=3.5.0 in /opt/homebrew/Caskroom/miniforge/base/lib/python3.10/site-packages (from spacy-transformers) (3.7.4)\n",
            "Requirement already satisfied: torch>=1.8.0 in /opt/homebrew/Caskroom/miniforge/base/lib/python3.10/site-packages (from spacy-transformers) (2.0.0)\n",
            "Requirement already satisfied: spacy-alignments<1.0.0,>=0.7.2 in /opt/homebrew/Caskroom/miniforge/base/lib/python3.10/site-packages (from spacy-transformers) (0.9.1)\n",
            "Requirement already satisfied: transformers<4.37.0,>=3.4.0 in /opt/homebrew/Caskroom/miniforge/base/lib/python3.10/site-packages (from spacy-transformers) (4.36.2)\n",
            "Requirement already satisfied: srsly<3.0.0,>=2.4.0 in /opt/homebrew/Caskroom/miniforge/base/lib/python3.10/site-packages (from spacy-transformers) (2.4.8)\n",
            "Requirement already satisfied: numpy>=1.19.0 in /opt/homebrew/Caskroom/miniforge/base/lib/python3.10/site-packages (from spacy-transformers) (1.24.2)\n",
            "Requirement already satisfied: spacy-loggers<2.0.0,>=1.0.0 in /opt/homebrew/Caskroom/miniforge/base/lib/python3.10/site-packages (from spacy<4.0.0,>=3.5.0->spacy-transformers) (1.0.5)\n",
            "Requirement already satisfied: pydantic!=1.8,!=1.8.1,<3.0.0,>=1.7.4 in /opt/homebrew/Caskroom/miniforge/base/lib/python3.10/site-packages (from spacy<4.0.0,>=3.5.0->spacy-transformers) (2.6.0)\n",
            "Requirement already satisfied: spacy-legacy<3.1.0,>=3.0.11 in /opt/homebrew/Caskroom/miniforge/base/lib/python3.10/site-packages (from spacy<4.0.0,>=3.5.0->spacy-transformers) (3.0.12)\n",
            "Requirement already satisfied: preshed<3.1.0,>=3.0.2 in /opt/homebrew/Caskroom/miniforge/base/lib/python3.10/site-packages (from spacy<4.0.0,>=3.5.0->spacy-transformers) (3.0.9)\n",
            "Requirement already satisfied: typer<0.10.0,>=0.3.0 in /opt/homebrew/Caskroom/miniforge/base/lib/python3.10/site-packages (from spacy<4.0.0,>=3.5.0->spacy-transformers) (0.9.0)\n",
            "Requirement already satisfied: requests<3.0.0,>=2.13.0 in /opt/homebrew/Caskroom/miniforge/base/lib/python3.10/site-packages (from spacy<4.0.0,>=3.5.0->spacy-transformers) (2.31.0)\n",
            "Requirement already satisfied: smart-open<7.0.0,>=5.2.1 in /opt/homebrew/Caskroom/miniforge/base/lib/python3.10/site-packages (from spacy<4.0.0,>=3.5.0->spacy-transformers) (6.4.0)\n",
            "Requirement already satisfied: tqdm<5.0.0,>=4.38.0 in /opt/homebrew/Caskroom/miniforge/base/lib/python3.10/site-packages (from spacy<4.0.0,>=3.5.0->spacy-transformers) (4.64.1)\n",
            "Requirement already satisfied: weasel<0.4.0,>=0.1.0 in /opt/homebrew/Caskroom/miniforge/base/lib/python3.10/site-packages (from spacy<4.0.0,>=3.5.0->spacy-transformers) (0.3.4)\n",
            "Requirement already satisfied: langcodes<4.0.0,>=3.2.0 in /opt/homebrew/Caskroom/miniforge/base/lib/python3.10/site-packages (from spacy<4.0.0,>=3.5.0->spacy-transformers) (3.3.0)\n",
            "Requirement already satisfied: catalogue<2.1.0,>=2.0.6 in /opt/homebrew/Caskroom/miniforge/base/lib/python3.10/site-packages (from spacy<4.0.0,>=3.5.0->spacy-transformers) (2.0.10)\n",
            "Requirement already satisfied: wasabi<1.2.0,>=0.9.1 in /opt/homebrew/Caskroom/miniforge/base/lib/python3.10/site-packages (from spacy<4.0.0,>=3.5.0->spacy-transformers) (1.1.2)\n",
            "Requirement already satisfied: jinja2 in /opt/homebrew/Caskroom/miniforge/base/lib/python3.10/site-packages (from spacy<4.0.0,>=3.5.0->spacy-transformers) (3.1.2)\n",
            "Requirement already satisfied: murmurhash<1.1.0,>=0.28.0 in /opt/homebrew/Caskroom/miniforge/base/lib/python3.10/site-packages (from spacy<4.0.0,>=3.5.0->spacy-transformers) (1.0.10)\n",
            "Requirement already satisfied: cymem<2.1.0,>=2.0.2 in /opt/homebrew/Caskroom/miniforge/base/lib/python3.10/site-packages (from spacy<4.0.0,>=3.5.0->spacy-transformers) (2.0.8)\n",
            "Requirement already satisfied: thinc<8.3.0,>=8.2.2 in /opt/homebrew/Caskroom/miniforge/base/lib/python3.10/site-packages (from spacy<4.0.0,>=3.5.0->spacy-transformers) (8.2.3)\n",
            "Requirement already satisfied: packaging>=20.0 in /opt/homebrew/Caskroom/miniforge/base/lib/python3.10/site-packages (from spacy<4.0.0,>=3.5.0->spacy-transformers) (23.0)\n",
            "Requirement already satisfied: setuptools in /opt/homebrew/Caskroom/miniforge/base/lib/python3.10/site-packages (from spacy<4.0.0,>=3.5.0->spacy-transformers) (65.5.1)\n",
            "Requirement already satisfied: typing-extensions in /opt/homebrew/Caskroom/miniforge/base/lib/python3.10/site-packages (from torch>=1.8.0->spacy-transformers) (4.9.0)\n",
            "Requirement already satisfied: filelock in /opt/homebrew/Caskroom/miniforge/base/lib/python3.10/site-packages (from torch>=1.8.0->spacy-transformers) (3.11.0)\n",
            "Requirement already satisfied: sympy in /opt/homebrew/Caskroom/miniforge/base/lib/python3.10/site-packages (from torch>=1.8.0->spacy-transformers) (1.11.1)\n",
            "Requirement already satisfied: networkx in /opt/homebrew/Caskroom/miniforge/base/lib/python3.10/site-packages (from torch>=1.8.0->spacy-transformers) (3.1)\n",
            "Requirement already satisfied: tokenizers<0.19,>=0.14 in /opt/homebrew/Caskroom/miniforge/base/lib/python3.10/site-packages (from transformers<4.37.0,>=3.4.0->spacy-transformers) (0.15.2)\n",
            "Requirement already satisfied: pyyaml>=5.1 in /opt/homebrew/Caskroom/miniforge/base/lib/python3.10/site-packages (from transformers<4.37.0,>=3.4.0->spacy-transformers) (6.0.1)\n",
            "Requirement already satisfied: huggingface-hub<1.0,>=0.19.3 in /opt/homebrew/Caskroom/miniforge/base/lib/python3.10/site-packages (from transformers<4.37.0,>=3.4.0->spacy-transformers) (0.21.3)\n",
            "Requirement already satisfied: regex!=2019.12.17 in /opt/homebrew/Caskroom/miniforge/base/lib/python3.10/site-packages (from transformers<4.37.0,>=3.4.0->spacy-transformers) (2023.12.25)\n",
            "Requirement already satisfied: safetensors>=0.3.1 in /opt/homebrew/Caskroom/miniforge/base/lib/python3.10/site-packages (from transformers<4.37.0,>=3.4.0->spacy-transformers) (0.4.2)\n",
            "Requirement already satisfied: fsspec>=2023.5.0 in /opt/homebrew/Caskroom/miniforge/base/lib/python3.10/site-packages (from huggingface-hub<1.0,>=0.19.3->transformers<4.37.0,>=3.4.0->spacy-transformers) (2023.12.2)\n",
            "Requirement already satisfied: annotated-types>=0.4.0 in /opt/homebrew/Caskroom/miniforge/base/lib/python3.10/site-packages (from pydantic!=1.8,!=1.8.1,<3.0.0,>=1.7.4->spacy<4.0.0,>=3.5.0->spacy-transformers) (0.6.0)\n",
            "Requirement already satisfied: pydantic-core==2.16.1 in /opt/homebrew/Caskroom/miniforge/base/lib/python3.10/site-packages (from pydantic!=1.8,!=1.8.1,<3.0.0,>=1.7.4->spacy<4.0.0,>=3.5.0->spacy-transformers) (2.16.1)\n",
            "Requirement already satisfied: charset-normalizer<4,>=2 in /opt/homebrew/Caskroom/miniforge/base/lib/python3.10/site-packages (from requests<3.0.0,>=2.13.0->spacy<4.0.0,>=3.5.0->spacy-transformers) (2.1.1)\n",
            "Requirement already satisfied: certifi>=2017.4.17 in /opt/homebrew/Caskroom/miniforge/base/lib/python3.10/site-packages (from requests<3.0.0,>=2.13.0->spacy<4.0.0,>=3.5.0->spacy-transformers) (2022.12.7)\n",
            "Requirement already satisfied: urllib3<3,>=1.21.1 in /opt/homebrew/Caskroom/miniforge/base/lib/python3.10/site-packages (from requests<3.0.0,>=2.13.0->spacy<4.0.0,>=3.5.0->spacy-transformers) (1.26.11)\n",
            "Requirement already satisfied: idna<4,>=2.5 in /opt/homebrew/Caskroom/miniforge/base/lib/python3.10/site-packages (from requests<3.0.0,>=2.13.0->spacy<4.0.0,>=3.5.0->spacy-transformers) (3.4)\n",
            "Requirement already satisfied: blis<0.8.0,>=0.7.8 in /opt/homebrew/Caskroom/miniforge/base/lib/python3.10/site-packages (from thinc<8.3.0,>=8.2.2->spacy<4.0.0,>=3.5.0->spacy-transformers) (0.7.11)\n",
            "Requirement already satisfied: confection<1.0.0,>=0.0.1 in /opt/homebrew/Caskroom/miniforge/base/lib/python3.10/site-packages (from thinc<8.3.0,>=8.2.2->spacy<4.0.0,>=3.5.0->spacy-transformers) (0.1.4)\n",
            "Requirement already satisfied: click<9.0.0,>=7.1.1 in /opt/homebrew/Caskroom/miniforge/base/lib/python3.10/site-packages (from typer<0.10.0,>=0.3.0->spacy<4.0.0,>=3.5.0->spacy-transformers) (8.1.7)\n",
            "Requirement already satisfied: cloudpathlib<0.17.0,>=0.7.0 in /opt/homebrew/Caskroom/miniforge/base/lib/python3.10/site-packages (from weasel<0.4.0,>=0.1.0->spacy<4.0.0,>=3.5.0->spacy-transformers) (0.16.0)\n",
            "Requirement already satisfied: MarkupSafe>=2.0 in /opt/homebrew/Caskroom/miniforge/base/lib/python3.10/site-packages (from jinja2->spacy<4.0.0,>=3.5.0->spacy-transformers) (2.1.2)\n",
            "Requirement already satisfied: mpmath>=0.19 in /opt/homebrew/Caskroom/miniforge/base/lib/python3.10/site-packages (from sympy->torch>=1.8.0->spacy-transformers) (1.3.0)\n"
          ]
        }
      ],
      "source": [
        "!pip install spacy-transformers"
      ]
    },
    {
      "cell_type": "code",
      "execution_count": 24,
      "metadata": {
        "id": "7Y-AZr5WdrnF"
      },
      "outputs": [],
      "source": [
        "import spacy\n",
        "from spacy.tokens import DocBin\n",
        "from tqdm import tqdm\n",
        "\n",
        "nlp = spacy.blank(\"en\") # load a new spacy model\n",
        "db = DocBin() # create a DocBin object"
      ]
    },
    {
      "cell_type": "code",
      "execution_count": 25,
      "metadata": {
        "id": "IXztBrgndrp-"
      },
      "outputs": [],
      "source": [
        "import json\n",
        "f = open('/Users/aryansingh/Downloads/Predii/spacy_with_transformers/main_spacy.json')\n",
        "TRAIN_DATA = json.load(f)"
      ]
    },
    {
      "cell_type": "code",
      "execution_count": 26,
      "metadata": {
        "colab": {
          "base_uri": "https://localhost:8080/"
        },
        "id": "7281cKk6d2sW",
        "outputId": "33a25fbd-7229-4e23-8ae4-6a22cce04363"
      },
      "outputs": [
        {
          "name": "stderr",
          "output_type": "stream",
          "text": [
            "  0%|          | 0/34 [00:00<?, ?it/s]"
          ]
        },
        {
          "name": "stderr",
          "output_type": "stream",
          "text": [
            "100%|██████████| 34/34 [00:00<00:00, 381.11it/s]\n"
          ]
        }
      ],
      "source": [
        "for text, annot in tqdm(TRAIN_DATA['annotations']):\n",
        "    doc = nlp.make_doc(text)\n",
        "    ents = []\n",
        "    for start, end, label in annot[\"entities\"]:\n",
        "        span = doc.char_span(start, end, label=label, alignment_mode=\"contract\")\n",
        "        if span is None:\n",
        "            print(\"Skipping entity\")\n",
        "        else:\n",
        "            ents.append(span)\n",
        "    doc.ents = ents\n",
        "    db.add(doc)\n",
        "\n",
        "db.to_disk(\"./training_data.spacy\") # save the docbin object"
      ]
    },
    {
      "cell_type": "code",
      "execution_count": 27,
      "metadata": {
        "colab": {
          "base_uri": "https://localhost:8080/"
        },
        "id": "waPaImgWd2un",
        "outputId": "89b355c9-cc2c-4878-fffc-65cbf3a4f2fb"
      },
      "outputs": [
        {
          "name": "stdout",
          "output_type": "stream",
          "text": [
            "\u001b[33mUsage: \u001b[0mpython \u001b[1;32m-m\u001b[0m spacy init config [OPTIONS] OUTPUT_FILE\n",
            "\u001b[2mTry \u001b[0m\u001b[2;34m'python \u001b[0m\u001b[1;2;34m-m\u001b[0m\u001b[2;34m spacy init config \u001b[0m\u001b[1;2;34m-\u001b[0m\u001b[1;2;34m-help\u001b[0m\u001b[2;34m'\u001b[0m\u001b[2m for help.\u001b[0m\n",
            "\u001b[31m╭─\u001b[0m\u001b[31m Error \u001b[0m\u001b[31m─────────────────────────────────────────────────────────────────────\u001b[0m\u001b[31m─╮\u001b[0m\n",
            "\u001b[31m│\u001b[0m No such option: \u001b[1;32m-m\u001b[0m                                                           \u001b[31m│\u001b[0m\n",
            "\u001b[31m╰──────────────────────────────────────────────────────────────────────────────╯\u001b[0m\n"
          ]
        }
      ],
      "source": [
        "! python -m spacy init config config.cfg --lang en --pipeline ner ! python -m spacy init config config.cfg --lang en --pipeline ner --optimize efficiency"
      ]
    },
    {
      "cell_type": "code",
      "execution_count": 11,
      "metadata": {
        "id": "mNCKes4Ee1mb"
      },
      "outputs": [],
      "source": [
        "import spacy\n",
        "\n",
        "gpu = spacy.prefer_gpu()"
      ]
    },
    {
      "cell_type": "code",
      "execution_count": 28,
      "metadata": {
        "id": "e_3XZuTkfztx"
      },
      "outputs": [
        {
          "name": "stdout",
          "output_type": "stream",
          "text": [
            "\u001b[38;5;4mℹ Saving to output directory: .\u001b[0m\n",
            "\u001b[38;5;4mℹ Using GPU: 0\u001b[0m\n",
            "\u001b[1m\n",
            "=========================== Initializing pipeline ===========================\u001b[0m\n",
            "\u001b[38;5;2m✔ Initialized pipeline\u001b[0m\n",
            "\u001b[1m\n",
            "============================= Training pipeline =============================\u001b[0m\n",
            "\u001b[38;5;4mℹ Pipeline: ['tok2vec', 'ner']\u001b[0m\n",
            "\u001b[38;5;4mℹ Initial learn rate: 0.001\u001b[0m\n",
            "E    #       LOSS TOK2VEC  LOSS NER  ENTS_F  ENTS_P  ENTS_R  SCORE \n",
            "---  ------  ------------  --------  ------  ------  ------  ------\n",
            "  0       0          0.00    153.91    1.70    9.84    0.93    0.02\n",
            "  6     200       5236.90  10784.84   32.73   34.54   31.10    0.33\n",
            " 12     400       1567.58   4273.06   72.37   70.50   74.34    0.72\n",
            " 19     600        455.06   2975.27   74.58   73.03   76.21    0.75\n",
            " 25     800        520.62   2959.50   76.73   77.58   75.89    0.77\n",
            " 32    1000        422.52   2639.48   75.41   79.72   71.54    0.75\n",
            " 38    1200        585.84   2645.31   76.07   76.25   75.89    0.76\n",
            " 44    1400       2723.11   2475.35   77.22   80.34   74.34    0.77\n",
            " 51    1600        366.97   2453.06   78.87   79.37   78.38    0.79\n",
            " 57    1800        430.24   2475.14   76.35   80.87   72.32    0.76\n",
            " 64    2000        372.89   2387.88   78.00   77.17   78.85    0.78\n",
            " 70    2200        349.83   2329.22   77.72   80.17   75.43    0.78\n",
            " 76    2400        350.54   2367.09   77.31   75.26   79.47    0.77\n",
            " 83    2600        436.52   2323.06   74.56   76.77   72.47    0.75\n",
            " 89    2800        402.25   2303.73   78.83   78.34   79.32    0.79\n",
            " 96    3000        315.71   2270.53   78.78   79.03   78.54    0.79\n",
            "102    3200        309.28   2267.76   79.23   81.44   77.14    0.79\n",
            "108    3400        387.13   2251.82   79.14   80.74   77.60    0.79\n",
            "115    3600        325.22   2221.50   77.95   80.46   75.58    0.78\n",
            "122    3800        314.10   2227.29   80.62   80.69   80.56    0.81\n",
            "129    4000        446.63   2526.80   78.96   75.64   82.58    0.79\n",
            "138    4200        398.03   2969.92   79.31   79.62   79.00    0.79\n",
            "150    4400        859.26   4150.71   79.78   81.73   77.92    0.80\n",
            "166    4600        612.26   4881.51   79.65   82.15   77.29    0.80\n",
            "187    4800        598.67   6008.53   81.04   84.60   77.76    0.81\n",
            "212    5000        863.93   7379.86   81.72   83.58   79.94    0.82\n",
            "240    5200        923.01   8394.94   81.51   82.48   80.56    0.82\n",
            "269    5400        839.21   8300.16   81.52   81.08   81.96    0.82\n",
            "298    5600        788.70   8366.91   81.81   82.13   81.49    0.82\n",
            "326    5800        822.77   8308.48   80.88   84.81   77.29    0.81\n",
            "355    6000        892.25   8284.46   81.69   80.82   82.58    0.82\n",
            "384    6200        776.11   8286.53   81.02   83.14   79.00    0.81\n",
            "412    6400        805.63   8192.58   81.22   81.73   80.72    0.81\n",
            "441    6600        716.43   8187.77   81.03   81.03   81.03    0.81\n",
            "469    6800        794.10   8161.90   81.37   81.24   81.49    0.81\n",
            "498    7000        871.06   8260.93   80.28   80.79   79.78    0.80\n",
            "527    7200        753.24   8117.97   80.75   80.62   80.87    0.81\n",
            "\u001b[38;5;2m✔ Saved pipeline to output directory\u001b[0m\n",
            "model-last\n"
          ]
        }
      ],
      "source": [
        "! python -m spacy train config.cfg --output ./ --paths.train ./training_data.spacy --paths.dev ./training_data.spacy --gpu-id 0"
      ]
    },
    {
      "cell_type": "code",
      "execution_count": 9,
      "metadata": {
        "colab": {
          "base_uri": "https://localhost:8080/"
        },
        "id": "k9DfNo5BeE3d",
        "outputId": "bcf13498-698b-407b-d063-a24221099e23"
      },
      "outputs": [
        {
          "name": "stdout",
          "output_type": "stream",
          "text": [
            "\u001b[33mUsage: \u001b[0mpython \u001b[1;32m-m\u001b[0m spacy train [OPTIONS] CONFIG_PATH\n",
            "\u001b[2mTry \u001b[0m\u001b[2;34m'python \u001b[0m\u001b[1;2;34m-m\u001b[0m\u001b[2;34m spacy train \u001b[0m\u001b[1;2;34m-\u001b[0m\u001b[1;2;34m-help\u001b[0m\u001b[2;34m'\u001b[0m\u001b[2m for help.\u001b[0m\n",
            "\u001b[31m╭─\u001b[0m\u001b[31m Error \u001b[0m\u001b[31m─────────────────────────────────────────────────────────────────────\u001b[0m\u001b[31m─╮\u001b[0m\n",
            "\u001b[31m│\u001b[0m Invalid value for 'CONFIG_PATH': Path 'config.cfg' does not exist.           \u001b[31m│\u001b[0m\n",
            "\u001b[31m╰──────────────────────────────────────────────────────────────────────────────╯\u001b[0m\n"
          ]
        }
      ],
      "source": [
        "! python -m spacy train config.cfg --output ./ --paths.train ./training_data.spacy --paths.dev ./training_data.spacy"
      ]
    },
    {
      "cell_type": "code",
      "execution_count": 10,
      "metadata": {
        "colab": {
          "base_uri": "https://localhost:8080/"
        },
        "id": "hpWKtcwQeE5-",
        "outputId": "da31123d-27a9-4988-c908-49b81491dda2"
      },
      "outputs": [],
      "source": [
        "nlp_ner = spacy.load(\"/Users/aryansingh/Downloads/Predii/spacy_with_transformers/model-last\")"
      ]
    },
    {
      "cell_type": "code",
      "execution_count": 30,
      "metadata": {
        "id": "UbrmCfDLeE8l"
      },
      "outputs": [],
      "source": [
        "doc = nlp_ner('''conditions can result in the bottoming out the suspension and amplification of the stress placed on the floor truss network. the additional stress can result in the fracture of welds securing the floor truss network system to the chassis frame rail and/or fracture of the floor truss network support system. the possibility exists that there could be damage to electrical wiring and/or fuel lines which could potentially lead to a fire''')"
      ]
    },
    {
      "cell_type": "code",
      "execution_count": 31,
      "metadata": {},
      "outputs": [
        {
          "data": {
            "text/html": [
              "<span class=\"tex2jax_ignore\"><div class=\"entities\" style=\"line-height: 2.5; direction: ltr\">conditions can result in the \n",
              "<mark class=\"entity\" style=\"background: #ddd; padding: 0.45em 0.6em; margin: 0 0.25em; line-height: 1; border-radius: 0.35em;\">\n",
              "    bottoming out the suspension\n",
              "    <span style=\"font-size: 0.8em; font-weight: bold; line-height: 1; border-radius: 0.35em; vertical-align: middle; margin-left: 0.5rem\">FAILURE ISSUE</span>\n",
              "</mark>\n",
              " and \n",
              "<mark class=\"entity\" style=\"background: #ddd; padding: 0.45em 0.6em; margin: 0 0.25em; line-height: 1; border-radius: 0.35em;\">\n",
              "    amplification of the stress\n",
              "    <span style=\"font-size: 0.8em; font-weight: bold; line-height: 1; border-radius: 0.35em; vertical-align: middle; margin-left: 0.5rem\">FAILURE ISSUE</span>\n",
              "</mark>\n",
              " placed on the \n",
              "<mark class=\"entity\" style=\"background: #ddd; padding: 0.45em 0.6em; margin: 0 0.25em; line-height: 1; border-radius: 0.35em;\">\n",
              "    floor truss network.\n",
              "    <span style=\"font-size: 0.8em; font-weight: bold; line-height: 1; border-radius: 0.35em; vertical-align: middle; margin-left: 0.5rem\">COMPONENT</span>\n",
              "</mark>\n",
              " the \n",
              "<mark class=\"entity\" style=\"background: #ddd; padding: 0.45em 0.6em; margin: 0 0.25em; line-height: 1; border-radius: 0.35em;\">\n",
              "    additional stress\n",
              "    <span style=\"font-size: 0.8em; font-weight: bold; line-height: 1; border-radius: 0.35em; vertical-align: middle; margin-left: 0.5rem\">FAILURE ISSUE</span>\n",
              "</mark>\n",
              " can result in the \n",
              "<mark class=\"entity\" style=\"background: #ddd; padding: 0.45em 0.6em; margin: 0 0.25em; line-height: 1; border-radius: 0.35em;\">\n",
              "    fracture of welds\n",
              "    <span style=\"font-size: 0.8em; font-weight: bold; line-height: 1; border-radius: 0.35em; vertical-align: middle; margin-left: 0.5rem\">FAILURE ISSUE</span>\n",
              "</mark>\n",
              " securing the \n",
              "<mark class=\"entity\" style=\"background: #ddd; padding: 0.45em 0.6em; margin: 0 0.25em; line-height: 1; border-radius: 0.35em;\">\n",
              "    floor truss network system\n",
              "    <span style=\"font-size: 0.8em; font-weight: bold; line-height: 1; border-radius: 0.35em; vertical-align: middle; margin-left: 0.5rem\">COMPONENT</span>\n",
              "</mark>\n",
              " to the chassis frame rail and/or \n",
              "<mark class=\"entity\" style=\"background: #ddd; padding: 0.45em 0.6em; margin: 0 0.25em; line-height: 1; border-radius: 0.35em;\">\n",
              "    fracture of the floor truss network support system.\n",
              "    <span style=\"font-size: 0.8em; font-weight: bold; line-height: 1; border-radius: 0.35em; vertical-align: middle; margin-left: 0.5rem\">FAILURE ISSUE</span>\n",
              "</mark>\n",
              " the possibility exists that there could be \n",
              "<mark class=\"entity\" style=\"background: #ddd; padding: 0.45em 0.6em; margin: 0 0.25em; line-height: 1; border-radius: 0.35em;\">\n",
              "    damage to electrical wiring\n",
              "    <span style=\"font-size: 0.8em; font-weight: bold; line-height: 1; border-radius: 0.35em; vertical-align: middle; margin-left: 0.5rem\">FAILURE ISSUE</span>\n",
              "</mark>\n",
              " and/or fuel lines which could potentially lead to a fire</div></span>"
            ],
            "text/plain": [
              "<IPython.core.display.HTML object>"
            ]
          },
          "metadata": {},
          "output_type": "display_data"
        }
      ],
      "source": [
        "spacy.displacy.render(doc,style=\"ent\",jupyter=True)"
      ]
    },
    {
      "cell_type": "code",
      "execution_count": 15,
      "metadata": {},
      "outputs": [
        {
          "name": "stderr",
          "output_type": "stream",
          "text": [
            "2024-03-02 11:33:12.455 \n",
            "  \u001b[33m\u001b[1mWarning:\u001b[0m to view this Streamlit app on a browser, run it with the following\n",
            "  command:\n",
            "\n",
            "    streamlit run /opt/homebrew/Caskroom/miniforge/base/lib/python3.10/site-packages/ipykernel_launcher.py [ARGUMENTS]\n"
          ]
        }
      ],
      "source": [
        "import streamlit as st\n",
        "import spacy\n",
        "from spacy import displacy\n",
        "\n",
        "# Load the NER model\n",
        "nlp_ner = spacy.load(\"/Users/aryansingh/Downloads/Predii/spacy_with_transformers/model-best\")\n",
        "\n",
        "# Define the Streamlit app\n",
        "def main():\n",
        "    # Title of the app\n",
        "    st.title(\"Named Entity Recognition with SpaCy\")\n",
        "\n",
        "    # Text input for the user to enter the text to analyze\n",
        "    text_input = st.text_area(\"Enter text to analyze:\", value=\"\")\n",
        "\n",
        "    # Button to trigger the analysis\n",
        "    if st.button(\"Analyze\"):\n",
        "        # Process the input text with the NER model\n",
        "        doc = nlp_ner(text_input)\n",
        "\n",
        "        # Render the entities using displacy\n",
        "        html = displacy.render(doc, style=\"ent\", page=True)\n",
        "\n",
        "        # Display the rendered entities\n",
        "        st.write(html, unsafe_allow_html=True)\n",
        "\n",
        "# Run the Streamlit app\n",
        "if __name__ == \"__main__\":\n",
        "    main()\n"
      ]
    },
    {
      "cell_type": "code",
      "execution_count": null,
      "metadata": {},
      "outputs": [],
      "source": []
    },
    {
      "cell_type": "code",
      "execution_count": 6,
      "metadata": {},
      "outputs": [
        {
          "name": "stdout",
          "output_type": "stream",
          "text": [
            "{'token_acc': 1.0, 'token_p': 1.0, 'token_r': 1.0, 'token_f': 1.0, 'ents_p': 0.0, 'ents_r': 0.0, 'ents_f': 0.0, 'ents_per_type': {'name': {'p': 0.0, 'r': 0.0, 'f': 0.0}, 'place': {'p': 0.0, 'r': 0.0, 'f': 0.0}}, 'speed': 2779.92321641507}\n"
          ]
        }
      ],
      "source": [
        "import spacy\n",
        "from spacy.training.example import Example\n",
        "\n",
        "nlp = spacy.load(\"/Users/aryansingh/Downloads/Predii/spacy_with_transformers/model-best\")\n",
        "examples = []\n",
        "data = [(\"Taj mahal is in Agra.\", {\"entities\": [(0, 9, 'name'),\n",
        "(16, 20, 'place')]})]\n",
        "for text, annots in data:\n",
        "    doc = nlp.make_doc(text)\n",
        "    examples.append(Example.from_dict(doc, annots))\n",
        "print(nlp.evaluate(examples)) # This will provide overall and per entity metrics"
      ]
    },
    {
      "cell_type": "code",
      "execution_count": 11,
      "metadata": {},
      "outputs": [
        {
          "name": "stdout",
          "output_type": "stream",
          "text": [
            "\u001b[38;5;3m⚠ Generating packages without the 'build' package is deprecated and\n",
            "will not be supported in the future. To install 'build': pip install build\u001b[0m\n",
            "\u001b[38;5;4mℹ Building package artifacts: wheel\u001b[0m\n",
            "\u001b[38;5;2m✔ Loaded meta.json from file\u001b[0m\n",
            "/Users/aryansingh/Downloads/Predii/spacy_with_transformers/model-last/meta.json\n",
            "\u001b[38;5;2m✔ Generated README.md from meta.json\u001b[0m\n",
            "\u001b[38;5;2m✔ Successfully created package directory 'en_pipeline-0.0.0'\u001b[0m\n",
            "/Users/aryansingh/Downloads/Predii/spacy_with_transformers/output/en_pipeline-0.0.0\n",
            "/opt/homebrew/Caskroom/miniforge/base/bin/python: No module named build\n",
            "\u001b[38;5;3m⚠ Creating wheel with 'python -m build' failed. Falling back to\n",
            "deprecated use of 'wheel' with 'python setup.py bdist_wheel'\u001b[0m\n",
            "running bdist_wheel\n",
            "running build\n",
            "running build_py\n",
            "creating build\n",
            "creating build/lib\n",
            "creating build/lib/en_pipeline\n",
            "copying en_pipeline/__init__.py -> build/lib/en_pipeline\n",
            "creating build/lib/en_pipeline/en_pipeline-0.0.0\n",
            "copying en_pipeline/en_pipeline-0.0.0/tokenizer -> build/lib/en_pipeline/en_pipeline-0.0.0\n",
            "copying en_pipeline/en_pipeline-0.0.0/config.cfg -> build/lib/en_pipeline/en_pipeline-0.0.0\n",
            "copying en_pipeline/en_pipeline-0.0.0/README.md -> build/lib/en_pipeline/en_pipeline-0.0.0\n",
            "copying en_pipeline/en_pipeline-0.0.0/meta.json -> build/lib/en_pipeline/en_pipeline-0.0.0\n",
            "creating build/lib/en_pipeline/en_pipeline-0.0.0/ner\n",
            "copying en_pipeline/en_pipeline-0.0.0/ner/moves -> build/lib/en_pipeline/en_pipeline-0.0.0/ner\n",
            "copying en_pipeline/en_pipeline-0.0.0/ner/cfg -> build/lib/en_pipeline/en_pipeline-0.0.0/ner\n",
            "copying en_pipeline/en_pipeline-0.0.0/ner/model -> build/lib/en_pipeline/en_pipeline-0.0.0/ner\n",
            "creating build/lib/en_pipeline/en_pipeline-0.0.0/vocab\n",
            "copying en_pipeline/en_pipeline-0.0.0/vocab/vectors -> build/lib/en_pipeline/en_pipeline-0.0.0/vocab\n",
            "copying en_pipeline/en_pipeline-0.0.0/vocab/lookups.bin -> build/lib/en_pipeline/en_pipeline-0.0.0/vocab\n",
            "copying en_pipeline/en_pipeline-0.0.0/vocab/strings.json -> build/lib/en_pipeline/en_pipeline-0.0.0/vocab\n",
            "copying en_pipeline/en_pipeline-0.0.0/vocab/key2row -> build/lib/en_pipeline/en_pipeline-0.0.0/vocab\n",
            "copying en_pipeline/en_pipeline-0.0.0/vocab/vectors.cfg -> build/lib/en_pipeline/en_pipeline-0.0.0/vocab\n",
            "creating build/lib/en_pipeline/en_pipeline-0.0.0/tok2vec\n",
            "copying en_pipeline/en_pipeline-0.0.0/tok2vec/cfg -> build/lib/en_pipeline/en_pipeline-0.0.0/tok2vec\n",
            "copying en_pipeline/en_pipeline-0.0.0/tok2vec/model -> build/lib/en_pipeline/en_pipeline-0.0.0/tok2vec\n",
            "copying en_pipeline/meta.json -> build/lib/en_pipeline\n",
            "/opt/homebrew/Caskroom/miniforge/base/lib/python3.10/site-packages/setuptools/command/install.py:34: SetuptoolsDeprecationWarning: setup.py install is deprecated. Use build and pip and other standards-based tools.\n",
            "  warnings.warn(\n",
            "installing to build/bdist.macosx-11.0-arm64/wheel\n",
            "running install\n",
            "running install_lib\n",
            "creating build/bdist.macosx-11.0-arm64\n",
            "creating build/bdist.macosx-11.0-arm64/wheel\n",
            "creating build/bdist.macosx-11.0-arm64/wheel/en_pipeline\n",
            "copying build/lib/en_pipeline/__init__.py -> build/bdist.macosx-11.0-arm64/wheel/en_pipeline\n",
            "creating build/bdist.macosx-11.0-arm64/wheel/en_pipeline/en_pipeline-0.0.0\n",
            "creating build/bdist.macosx-11.0-arm64/wheel/en_pipeline/en_pipeline-0.0.0/ner\n",
            "copying build/lib/en_pipeline/en_pipeline-0.0.0/ner/moves -> build/bdist.macosx-11.0-arm64/wheel/en_pipeline/en_pipeline-0.0.0/ner\n",
            "copying build/lib/en_pipeline/en_pipeline-0.0.0/ner/cfg -> build/bdist.macosx-11.0-arm64/wheel/en_pipeline/en_pipeline-0.0.0/ner\n",
            "copying build/lib/en_pipeline/en_pipeline-0.0.0/ner/model -> build/bdist.macosx-11.0-arm64/wheel/en_pipeline/en_pipeline-0.0.0/ner\n",
            "copying build/lib/en_pipeline/en_pipeline-0.0.0/tokenizer -> build/bdist.macosx-11.0-arm64/wheel/en_pipeline/en_pipeline-0.0.0\n",
            "creating build/bdist.macosx-11.0-arm64/wheel/en_pipeline/en_pipeline-0.0.0/vocab\n",
            "copying build/lib/en_pipeline/en_pipeline-0.0.0/vocab/vectors -> build/bdist.macosx-11.0-arm64/wheel/en_pipeline/en_pipeline-0.0.0/vocab\n",
            "copying build/lib/en_pipeline/en_pipeline-0.0.0/vocab/lookups.bin -> build/bdist.macosx-11.0-arm64/wheel/en_pipeline/en_pipeline-0.0.0/vocab\n",
            "copying build/lib/en_pipeline/en_pipeline-0.0.0/vocab/strings.json -> build/bdist.macosx-11.0-arm64/wheel/en_pipeline/en_pipeline-0.0.0/vocab\n",
            "copying build/lib/en_pipeline/en_pipeline-0.0.0/vocab/key2row -> build/bdist.macosx-11.0-arm64/wheel/en_pipeline/en_pipeline-0.0.0/vocab\n",
            "copying build/lib/en_pipeline/en_pipeline-0.0.0/vocab/vectors.cfg -> build/bdist.macosx-11.0-arm64/wheel/en_pipeline/en_pipeline-0.0.0/vocab\n",
            "copying build/lib/en_pipeline/en_pipeline-0.0.0/config.cfg -> build/bdist.macosx-11.0-arm64/wheel/en_pipeline/en_pipeline-0.0.0\n",
            "copying build/lib/en_pipeline/en_pipeline-0.0.0/README.md -> build/bdist.macosx-11.0-arm64/wheel/en_pipeline/en_pipeline-0.0.0\n",
            "creating build/bdist.macosx-11.0-arm64/wheel/en_pipeline/en_pipeline-0.0.0/tok2vec\n",
            "copying build/lib/en_pipeline/en_pipeline-0.0.0/tok2vec/cfg -> build/bdist.macosx-11.0-arm64/wheel/en_pipeline/en_pipeline-0.0.0/tok2vec\n",
            "copying build/lib/en_pipeline/en_pipeline-0.0.0/tok2vec/model -> build/bdist.macosx-11.0-arm64/wheel/en_pipeline/en_pipeline-0.0.0/tok2vec\n",
            "copying build/lib/en_pipeline/en_pipeline-0.0.0/meta.json -> build/bdist.macosx-11.0-arm64/wheel/en_pipeline/en_pipeline-0.0.0\n",
            "copying build/lib/en_pipeline/meta.json -> build/bdist.macosx-11.0-arm64/wheel/en_pipeline\n",
            "running install_egg_info\n",
            "running egg_info\n",
            "creating en_pipeline.egg-info\n",
            "writing en_pipeline.egg-info/PKG-INFO\n",
            "writing dependency_links to en_pipeline.egg-info/dependency_links.txt\n",
            "writing entry points to en_pipeline.egg-info/entry_points.txt\n",
            "writing requirements to en_pipeline.egg-info/requires.txt\n",
            "writing top-level names to en_pipeline.egg-info/top_level.txt\n",
            "writing manifest file 'en_pipeline.egg-info/SOURCES.txt'\n",
            "reading manifest file 'en_pipeline.egg-info/SOURCES.txt'\n",
            "reading manifest template 'MANIFEST.in'\n",
            "warning: no files found matching 'LICENSE'\n",
            "warning: no files found matching 'LICENSES_SOURCES'\n",
            "writing manifest file 'en_pipeline.egg-info/SOURCES.txt'\n",
            "Copying en_pipeline.egg-info to build/bdist.macosx-11.0-arm64/wheel/en_pipeline-0.0.0-py3.10.egg-info\n",
            "running install_scripts\n",
            "creating build/bdist.macosx-11.0-arm64/wheel/en_pipeline-0.0.0.dist-info/WHEEL\n",
            "creating 'dist/en_pipeline-0.0.0-py3-none-any.whl' and adding 'build/bdist.macosx-11.0-arm64/wheel' to it\n",
            "adding 'en_pipeline/__init__.py'\n",
            "adding 'en_pipeline/meta.json'\n",
            "adding 'en_pipeline/en_pipeline-0.0.0/README.md'\n",
            "adding 'en_pipeline/en_pipeline-0.0.0/config.cfg'\n",
            "adding 'en_pipeline/en_pipeline-0.0.0/meta.json'\n",
            "adding 'en_pipeline/en_pipeline-0.0.0/tokenizer'\n",
            "adding 'en_pipeline/en_pipeline-0.0.0/ner/cfg'\n",
            "adding 'en_pipeline/en_pipeline-0.0.0/ner/model'\n",
            "adding 'en_pipeline/en_pipeline-0.0.0/ner/moves'\n",
            "adding 'en_pipeline/en_pipeline-0.0.0/tok2vec/cfg'\n",
            "adding 'en_pipeline/en_pipeline-0.0.0/tok2vec/model'\n",
            "adding 'en_pipeline/en_pipeline-0.0.0/vocab/key2row'\n",
            "adding 'en_pipeline/en_pipeline-0.0.0/vocab/lookups.bin'\n",
            "adding 'en_pipeline/en_pipeline-0.0.0/vocab/strings.json'\n",
            "adding 'en_pipeline/en_pipeline-0.0.0/vocab/vectors'\n",
            "adding 'en_pipeline/en_pipeline-0.0.0/vocab/vectors.cfg'\n",
            "adding 'en_pipeline-0.0.0.dist-info/METADATA'\n",
            "adding 'en_pipeline-0.0.0.dist-info/WHEEL'\n",
            "adding 'en_pipeline-0.0.0.dist-info/entry_points.txt'\n",
            "adding 'en_pipeline-0.0.0.dist-info/top_level.txt'\n",
            "adding 'en_pipeline-0.0.0.dist-info/RECORD'\n",
            "removing build/bdist.macosx-11.0-arm64/wheel\n",
            "\u001b[38;5;2m✔ Successfully created binary wheel\u001b[0m\n",
            "/Users/aryansingh/Downloads/Predii/spacy_with_transformers/output/en_pipeline-0.0.0/dist/en_pipeline-0.0.0-py3-none-any.whl\n"
          ]
        }
      ],
      "source": [
        "!python -m spacy package \"/Users/aryansingh/Downloads/Predii/spacy_with_transformers/model-last\" \"/Users/aryansingh/Downloads/Predii/spacy_with_transformers/output\" --build wheel"
      ]
    },
    {
      "cell_type": "code",
      "execution_count": 12,
      "metadata": {},
      "outputs": [
        {
          "name": "stdout",
          "output_type": "stream",
          "text": [
            "Collecting spacy-huggingface-hub\n",
            "  Downloading spacy_huggingface_hub-0.0.10-py3-none-any.whl (8.3 kB)\n",
            "Collecting typer<0.8.0,>=0.3.0\n",
            "  Downloading typer-0.7.0-py3-none-any.whl (38 kB)\n",
            "Requirement already satisfied: wasabi<1.2.0,>=0.8.1 in /opt/homebrew/Caskroom/miniforge/base/lib/python3.10/site-packages (from spacy-huggingface-hub) (1.1.2)\n",
            "Requirement already satisfied: huggingface-hub>=0.8.1 in /opt/homebrew/Caskroom/miniforge/base/lib/python3.10/site-packages (from spacy-huggingface-hub) (0.21.3)\n",
            "Requirement already satisfied: PyYAML in /opt/homebrew/Caskroom/miniforge/base/lib/python3.10/site-packages (from spacy-huggingface-hub) (6.0.1)\n",
            "Requirement already satisfied: packaging>=20.9 in /opt/homebrew/Caskroom/miniforge/base/lib/python3.10/site-packages (from huggingface-hub>=0.8.1->spacy-huggingface-hub) (23.0)\n",
            "Requirement already satisfied: fsspec>=2023.5.0 in /opt/homebrew/Caskroom/miniforge/base/lib/python3.10/site-packages (from huggingface-hub>=0.8.1->spacy-huggingface-hub) (2023.12.2)\n",
            "Requirement already satisfied: filelock in /opt/homebrew/Caskroom/miniforge/base/lib/python3.10/site-packages (from huggingface-hub>=0.8.1->spacy-huggingface-hub) (3.11.0)\n",
            "Requirement already satisfied: tqdm>=4.42.1 in /opt/homebrew/Caskroom/miniforge/base/lib/python3.10/site-packages (from huggingface-hub>=0.8.1->spacy-huggingface-hub) (4.64.1)\n",
            "Requirement already satisfied: requests in /opt/homebrew/Caskroom/miniforge/base/lib/python3.10/site-packages (from huggingface-hub>=0.8.1->spacy-huggingface-hub) (2.31.0)\n",
            "Requirement already satisfied: typing-extensions>=3.7.4.3 in /opt/homebrew/Caskroom/miniforge/base/lib/python3.10/site-packages (from huggingface-hub>=0.8.1->spacy-huggingface-hub) (4.9.0)\n",
            "Requirement already satisfied: click<9.0.0,>=7.1.1 in /opt/homebrew/Caskroom/miniforge/base/lib/python3.10/site-packages (from typer<0.8.0,>=0.3.0->spacy-huggingface-hub) (8.1.7)\n",
            "Requirement already satisfied: certifi>=2017.4.17 in /opt/homebrew/Caskroom/miniforge/base/lib/python3.10/site-packages (from requests->huggingface-hub>=0.8.1->spacy-huggingface-hub) (2022.12.7)\n",
            "Requirement already satisfied: urllib3<3,>=1.21.1 in /opt/homebrew/Caskroom/miniforge/base/lib/python3.10/site-packages (from requests->huggingface-hub>=0.8.1->spacy-huggingface-hub) (1.26.11)\n",
            "Requirement already satisfied: idna<4,>=2.5 in /opt/homebrew/Caskroom/miniforge/base/lib/python3.10/site-packages (from requests->huggingface-hub>=0.8.1->spacy-huggingface-hub) (3.4)\n",
            "Requirement already satisfied: charset-normalizer<4,>=2 in /opt/homebrew/Caskroom/miniforge/base/lib/python3.10/site-packages (from requests->huggingface-hub>=0.8.1->spacy-huggingface-hub) (2.1.1)\n",
            "Installing collected packages: typer, spacy-huggingface-hub\n",
            "  Attempting uninstall: typer\n",
            "    Found existing installation: typer 0.9.0\n",
            "    Uninstalling typer-0.9.0:\n",
            "      Successfully uninstalled typer-0.9.0\n",
            "Successfully installed spacy-huggingface-hub-0.0.10 typer-0.7.0\n"
          ]
        }
      ],
      "source": [
        "!pip install spacy-huggingface-hub"
      ]
    },
    {
      "cell_type": "code",
      "execution_count": 4,
      "metadata": {},
      "outputs": [
        {
          "ename": "SyntaxError",
          "evalue": "invalid syntax. Perhaps you forgot a comma? (3036646042.py, line 1)",
          "output_type": "error",
          "traceback": [
            "\u001b[0;36m  Cell \u001b[0;32mIn[4], line 1\u001b[0;36m\u001b[0m\n\u001b[0;31m    input(huggingface-cli login)\u001b[0m\n\u001b[0m          ^\u001b[0m\n\u001b[0;31mSyntaxError\u001b[0m\u001b[0;31m:\u001b[0m invalid syntax. Perhaps you forgot a comma?\n"
          ]
        }
      ],
      "source": []
    },
    {
      "cell_type": "code",
      "execution_count": 15,
      "metadata": {},
      "outputs": [
        {
          "ename": "KeyboardInterrupt",
          "evalue": "Interrupted by user",
          "output_type": "error",
          "traceback": [
            "\u001b[0;31m---------------------------------------------------------------------------\u001b[0m",
            "\u001b[0;31mKeyboardInterrupt\u001b[0m                         Traceback (most recent call last)",
            "Cell \u001b[0;32mIn[15], line 1\u001b[0m\n\u001b[0;32m----> 1\u001b[0m a \u001b[38;5;241m=\u001b[39m \u001b[38;5;28;43minput\u001b[39;49m\u001b[43m(\u001b[49m\u001b[43m)\u001b[49m\n\u001b[1;32m      2\u001b[0m \u001b[38;5;28mprint\u001b[39m(a)\n",
            "File \u001b[0;32m/opt/homebrew/Caskroom/miniforge/base/lib/python3.10/site-packages/ipykernel/kernelbase.py:1191\u001b[0m, in \u001b[0;36mKernel.raw_input\u001b[0;34m(self, prompt)\u001b[0m\n\u001b[1;32m   1189\u001b[0m     msg \u001b[38;5;241m=\u001b[39m \u001b[38;5;124m\"\u001b[39m\u001b[38;5;124mraw_input was called, but this frontend does not support input requests.\u001b[39m\u001b[38;5;124m\"\u001b[39m\n\u001b[1;32m   1190\u001b[0m     \u001b[38;5;28;01mraise\u001b[39;00m StdinNotImplementedError(msg)\n\u001b[0;32m-> 1191\u001b[0m \u001b[38;5;28;01mreturn\u001b[39;00m \u001b[38;5;28;43mself\u001b[39;49m\u001b[38;5;241;43m.\u001b[39;49m\u001b[43m_input_request\u001b[49m\u001b[43m(\u001b[49m\n\u001b[1;32m   1192\u001b[0m \u001b[43m    \u001b[49m\u001b[38;5;28;43mstr\u001b[39;49m\u001b[43m(\u001b[49m\u001b[43mprompt\u001b[49m\u001b[43m)\u001b[49m\u001b[43m,\u001b[49m\n\u001b[1;32m   1193\u001b[0m \u001b[43m    \u001b[49m\u001b[38;5;28;43mself\u001b[39;49m\u001b[38;5;241;43m.\u001b[39;49m\u001b[43m_parent_ident\u001b[49m\u001b[43m[\u001b[49m\u001b[38;5;124;43m\"\u001b[39;49m\u001b[38;5;124;43mshell\u001b[39;49m\u001b[38;5;124;43m\"\u001b[39;49m\u001b[43m]\u001b[49m\u001b[43m,\u001b[49m\n\u001b[1;32m   1194\u001b[0m \u001b[43m    \u001b[49m\u001b[38;5;28;43mself\u001b[39;49m\u001b[38;5;241;43m.\u001b[39;49m\u001b[43mget_parent\u001b[49m\u001b[43m(\u001b[49m\u001b[38;5;124;43m\"\u001b[39;49m\u001b[38;5;124;43mshell\u001b[39;49m\u001b[38;5;124;43m\"\u001b[39;49m\u001b[43m)\u001b[49m\u001b[43m,\u001b[49m\n\u001b[1;32m   1195\u001b[0m \u001b[43m    \u001b[49m\u001b[43mpassword\u001b[49m\u001b[38;5;241;43m=\u001b[39;49m\u001b[38;5;28;43;01mFalse\u001b[39;49;00m\u001b[43m,\u001b[49m\n\u001b[1;32m   1196\u001b[0m \u001b[43m\u001b[49m\u001b[43m)\u001b[49m\n",
            "File \u001b[0;32m/opt/homebrew/Caskroom/miniforge/base/lib/python3.10/site-packages/ipykernel/kernelbase.py:1234\u001b[0m, in \u001b[0;36mKernel._input_request\u001b[0;34m(self, prompt, ident, parent, password)\u001b[0m\n\u001b[1;32m   1231\u001b[0m \u001b[38;5;28;01mexcept\u001b[39;00m \u001b[38;5;167;01mKeyboardInterrupt\u001b[39;00m:\n\u001b[1;32m   1232\u001b[0m     \u001b[38;5;66;03m# re-raise KeyboardInterrupt, to truncate traceback\u001b[39;00m\n\u001b[1;32m   1233\u001b[0m     msg \u001b[38;5;241m=\u001b[39m \u001b[38;5;124m\"\u001b[39m\u001b[38;5;124mInterrupted by user\u001b[39m\u001b[38;5;124m\"\u001b[39m\n\u001b[0;32m-> 1234\u001b[0m     \u001b[38;5;28;01mraise\u001b[39;00m \u001b[38;5;167;01mKeyboardInterrupt\u001b[39;00m(msg) \u001b[38;5;28;01mfrom\u001b[39;00m \u001b[38;5;28;01mNone\u001b[39;00m\n\u001b[1;32m   1235\u001b[0m \u001b[38;5;28;01mexcept\u001b[39;00m \u001b[38;5;167;01mException\u001b[39;00m:\n\u001b[1;32m   1236\u001b[0m     \u001b[38;5;28mself\u001b[39m\u001b[38;5;241m.\u001b[39mlog\u001b[38;5;241m.\u001b[39mwarning(\u001b[38;5;124m\"\u001b[39m\u001b[38;5;124mInvalid Message:\u001b[39m\u001b[38;5;124m\"\u001b[39m, exc_info\u001b[38;5;241m=\u001b[39m\u001b[38;5;28;01mTrue\u001b[39;00m)\n",
            "\u001b[0;31mKeyboardInterrupt\u001b[0m: Interrupted by user"
          ]
        }
      ],
      "source": [
        "a = input()\n",
        "print(a)"
      ]
    },
    {
      "cell_type": "code",
      "execution_count": null,
      "metadata": {
        "id": "D1EJWxx5iJ_Z"
      },
      "outputs": [],
      "source": [
        "https://colab.research.google.com/drive/1DonxTXOg79gP_JbbtX2W9XtBggVUulXy?usp=sharing"
      ]
    },
    {
      "cell_type": "code",
      "execution_count": null,
      "metadata": {
        "id": "frYFjq7Xd2zj"
      },
      "outputs": [],
      "source": []
    },
    {
      "cell_type": "code",
      "execution_count": null,
      "metadata": {
        "id": "XgUvSIh3d216"
      },
      "outputs": [],
      "source": []
    },
    {
      "cell_type": "code",
      "execution_count": null,
      "metadata": {
        "id": "al6yBbI1d23u"
      },
      "outputs": [],
      "source": []
    },
    {
      "cell_type": "code",
      "execution_count": null,
      "metadata": {
        "id": "W1YNRJ8edrsD"
      },
      "outputs": [],
      "source": []
    },
    {
      "cell_type": "code",
      "execution_count": null,
      "metadata": {
        "id": "Zw6x0xkFdruY"
      },
      "outputs": [],
      "source": []
    }
  ],
  "metadata": {
    "accelerator": "GPU",
    "colab": {
      "gpuType": "T4",
      "provenance": []
    },
    "kernelspec": {
      "display_name": "Python 3",
      "name": "python3"
    },
    "language_info": {
      "codemirror_mode": {
        "name": "ipython",
        "version": 3
      },
      "file_extension": ".py",
      "mimetype": "text/x-python",
      "name": "python",
      "nbconvert_exporter": "python",
      "pygments_lexer": "ipython3",
      "version": "3.10.6"
    }
  },
  "nbformat": 4,
  "nbformat_minor": 0
}
